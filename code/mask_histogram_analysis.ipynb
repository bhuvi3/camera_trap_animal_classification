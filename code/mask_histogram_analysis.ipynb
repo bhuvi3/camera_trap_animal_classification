{
 "cells": [
  {
   "cell_type": "code",
   "execution_count": 10,
   "metadata": {},
   "outputs": [],
   "source": [
    "import pandas as pd\n",
    "import numpy as np\n",
    "import os\n",
    "import matplotlib.pyplot as plt\n",
    "from matplotlib.image import imread, imsave\n",
    "from PIL import Image\n",
    "from tqdm import tqdm_notebook\n",
    "import seaborn as sns\n",
    "\n",
    "sns.set()\n",
    "\n",
    "%matplotlib inline"
   ]
  },
  {
   "cell_type": "code",
   "execution_count": 2,
   "metadata": {},
   "outputs": [],
   "source": [
    "train_data = pd.read_csv(os.path.join(os.getcwd(), '..', 'data', 'final_dataset_train.csv'))\n",
    "val_data = pd.read_csv(os.path.join(os.getcwd(), '..', 'data', 'final_dataset_val.csv'))\n",
    "test_data = pd.read_csv(os.path.join(os.getcwd(), '..', 'data', 'final_dataset_test.csv'))"
   ]
  },
  {
   "cell_type": "code",
   "execution_count": 3,
   "metadata": {},
   "outputs": [],
   "source": [
    "images_folder = os.path.join(os.getcwd(), '..', 'data', 'images', 'images-resized')"
   ]
  },
  {
   "cell_type": "code",
   "execution_count": 4,
   "metadata": {},
   "outputs": [],
   "source": [
    "total_data = pd.concat([train_data, val_data, test_data])"
   ]
  },
  {
   "cell_type": "code",
   "execution_count": 5,
   "metadata": {},
   "outputs": [
    {
     "data": {
      "text/html": [
       "<div>\n",
       "<style scoped>\n",
       "    .dataframe tbody tr th:only-of-type {\n",
       "        vertical-align: middle;\n",
       "    }\n",
       "\n",
       "    .dataframe tbody tr th {\n",
       "        vertical-align: top;\n",
       "    }\n",
       "\n",
       "    .dataframe thead th {\n",
       "        text-align: right;\n",
       "    }\n",
       "</style>\n",
       "<table border=\"1\" class=\"dataframe\">\n",
       "  <thead>\n",
       "    <tr style=\"text-align: right;\">\n",
       "      <th></th>\n",
       "      <th>sequence</th>\n",
       "      <th>image1</th>\n",
       "      <th>image2</th>\n",
       "      <th>image3</th>\n",
       "      <th>has_animal</th>\n",
       "      <th>mask_MOG2</th>\n",
       "      <th>mask_flow1</th>\n",
       "    </tr>\n",
       "  </thead>\n",
       "  <tbody>\n",
       "    <tr>\n",
       "      <th>0</th>\n",
       "      <td>2</td>\n",
       "      <td>290716114012001a1116.JPG</td>\n",
       "      <td>290716114014001a1114.JPG</td>\n",
       "      <td>290716114014001a1115.JPG</td>\n",
       "      <td>1</td>\n",
       "      <td>2_mask_MOG2.png</td>\n",
       "      <td>2_mask_flow1.png</td>\n",
       "    </tr>\n",
       "    <tr>\n",
       "      <th>1</th>\n",
       "      <td>3</td>\n",
       "      <td>280716130614001a1111.JPG</td>\n",
       "      <td>280716130614001a1112.JPG</td>\n",
       "      <td>280716130614001a1113.JPG</td>\n",
       "      <td>0</td>\n",
       "      <td>3_mask_MOG2.png</td>\n",
       "      <td>3_mask_flow1.png</td>\n",
       "    </tr>\n",
       "    <tr>\n",
       "      <th>2</th>\n",
       "      <td>4</td>\n",
       "      <td>280716130526001a1113.JPG</td>\n",
       "      <td>280716130528001a1111.JPG</td>\n",
       "      <td>280716130528001a1112.JPG</td>\n",
       "      <td>0</td>\n",
       "      <td>4_mask_MOG2.png</td>\n",
       "      <td>4_mask_flow1.png</td>\n",
       "    </tr>\n",
       "    <tr>\n",
       "      <th>3</th>\n",
       "      <td>5</td>\n",
       "      <td>250716162756001a1113.JPG</td>\n",
       "      <td>250716162758001a1111.JPG</td>\n",
       "      <td>250716162758001a1112.JPG</td>\n",
       "      <td>0</td>\n",
       "      <td>5_mask_MOG2.png</td>\n",
       "      <td>5_mask_flow1.png</td>\n",
       "    </tr>\n",
       "    <tr>\n",
       "      <th>4</th>\n",
       "      <td>6</td>\n",
       "      <td>250716130638001a1113.JPG</td>\n",
       "      <td>250716130640001a1111.JPG</td>\n",
       "      <td>250716130640001a1112.JPG</td>\n",
       "      <td>0</td>\n",
       "      <td>6_mask_MOG2.png</td>\n",
       "      <td>6_mask_flow1.png</td>\n",
       "    </tr>\n",
       "  </tbody>\n",
       "</table>\n",
       "</div>"
      ],
      "text/plain": [
       "   sequence                    image1                    image2  \\\n",
       "0         2  290716114012001a1116.JPG  290716114014001a1114.JPG   \n",
       "1         3  280716130614001a1111.JPG  280716130614001a1112.JPG   \n",
       "2         4  280716130526001a1113.JPG  280716130528001a1111.JPG   \n",
       "3         5  250716162756001a1113.JPG  250716162758001a1111.JPG   \n",
       "4         6  250716130638001a1113.JPG  250716130640001a1111.JPG   \n",
       "\n",
       "                     image3  has_animal        mask_MOG2        mask_flow1  \n",
       "0  290716114014001a1115.JPG           1  2_mask_MOG2.png  2_mask_flow1.png  \n",
       "1  280716130614001a1113.JPG           0  3_mask_MOG2.png  3_mask_flow1.png  \n",
       "2  280716130528001a1112.JPG           0  4_mask_MOG2.png  4_mask_flow1.png  \n",
       "3  250716162758001a1112.JPG           0  5_mask_MOG2.png  5_mask_flow1.png  \n",
       "4  250716130640001a1112.JPG           0  6_mask_MOG2.png  6_mask_flow1.png  "
      ]
     },
     "execution_count": 5,
     "metadata": {},
     "output_type": "execute_result"
    }
   ],
   "source": [
    "total_data.head()"
   ]
  },
  {
   "cell_type": "code",
   "execution_count": 6,
   "metadata": {},
   "outputs": [],
   "source": [
    "hist_all_data = []\n",
    "hist_animals = []\n",
    "hist_backgrounds = []"
   ]
  },
  {
   "cell_type": "code",
   "execution_count": 7,
   "metadata": {},
   "outputs": [
    {
     "name": "stderr",
     "output_type": "stream",
     "text": [
      "/Users/Darshan/anaconda3/envs/camera_trap/lib/python3.7/site-packages/ipykernel_launcher.py:1: TqdmDeprecationWarning: This function will be removed in tqdm==5.0.0\n",
      "Please use `tqdm.notebook.tqdm` instead of `tqdm.tqdm_notebook`\n",
      "  \"\"\"Entry point for launching an IPython kernel.\n"
     ]
    },
    {
     "data": {
      "application/vnd.jupyter.widget-view+json": {
       "model_id": "c397616819a047a08b41d87ef77a6e07",
       "version_major": 2,
       "version_minor": 0
      },
      "text/plain": [
       "HBox(children=(FloatProgress(value=1.0, bar_style='info', max=1.0), HTML(value='')))"
      ]
     },
     "metadata": {},
     "output_type": "display_data"
    },
    {
     "name": "stdout",
     "output_type": "stream",
     "text": [
      "\n"
     ]
    }
   ],
   "source": [
    "for idx, row in tqdm_notebook(total_data.iterrows()):\n",
    "    img = imread(os.path.join(images_folder, row['mask_MOG2']))\n",
    "    img = (img > 0.1).astype(np.uint8)\n",
    "    mean = np.mean(img)\n",
    "    hist_all_data.append(mean)\n",
    "    if row['has_animal']:\n",
    "        hist_animals.append(mean)\n",
    "    else:\n",
    "        hist_backgrounds.append(mean)"
   ]
  },
  {
   "cell_type": "code",
   "execution_count": 19,
   "metadata": {},
   "outputs": [
    {
     "name": "stderr",
     "output_type": "stream",
     "text": [
      "/Users/Darshan/anaconda3/envs/camera_trap/lib/python3.7/site-packages/seaborn/distributions.py:200: UserWarning: Data has no positive values, and therefore cannot be log-scaled.\n",
      "  line, = ax.plot(a.mean(), 0)\n",
      "/Users/Darshan/anaconda3/envs/camera_trap/lib/python3.7/site-packages/seaborn/distributions.py:352: UserWarning: Attempted to set non-positive bottom ylim on a log-scaled axis.\n",
      "Invalid limit will be ignored.\n",
      "  ax.set_ylim(0, auto=None)\n"
     ]
    },
    {
     "data": {
      "text/plain": [
       "<matplotlib.axes._subplots.AxesSubplot at 0x1293ff950>"
      ]
     },
     "execution_count": 19,
     "metadata": {},
     "output_type": "execute_result"
    },
    {
     "data": {
      "image/png": "[encoded data removed]",
      "text/plain": [
       "<Figure size 432x288 with 1 Axes>"
      ]
     },
     "metadata": {
      "needs_background": "light"
     },
     "output_type": "display_data"
    }
   ],
   "source": [
    "plt.yscale('log')\n",
    "sns.distplot(hist_all_data)"
   ]
  },
  {
   "cell_type": "code",
   "execution_count": 21,
   "metadata": {},
   "outputs": [
    {
     "data": {
      "text/plain": [
       "<matplotlib.axes._subplots.AxesSubplot at 0x129ead150>"
      ]
     },
     "execution_count": 21,
     "metadata": {},
     "output_type": "execute_result"
    },
    {
     "data": {
      "image/png": "[encoded data removed]",
      "text/plain": [
       "<Figure size 432x288 with 1 Axes>"
      ]
     },
     "metadata": {
      "needs_background": "light"
     },
     "output_type": "display_data"
    }
   ],
   "source": [
    "plt.yscale('log')\n",
    "sns.distplot(hist_backgrounds)"
   ]
  },
  {
   "cell_type": "code",
   "execution_count": 22,
   "metadata": {},
   "outputs": [
    {
     "data": {
      "text/plain": [
       "<matplotlib.axes._subplots.AxesSubplot at 0x129b93e50>"
      ]
     },
     "execution_count": 22,
     "metadata": {},
     "output_type": "execute_result"
    },
    {
     "data": {
      "image/png": "[encoded data removed]",
      "text/plain": [
       "<Figure size 432x288 with 1 Axes>"
      ]
     },
     "metadata": {
      "needs_background": "light"
     },
     "output_type": "display_data"
    }
   ],
   "source": [
    "plt.yscale('log')\n",
    "sns.distplot(hist_animals)"
   ]
  },
  {
   "cell_type": "code",
   "execution_count": null,
   "metadata": {},
   "outputs": [],
   "source": []
  }
 ],
 "metadata": {
  "kernelspec": {
   "display_name": "Python 3.7.6 64-bit ('camera_trap': conda)",
   "language": "python",
   "name": "python37664bitcameratrapcondaa6556a2676224246a2b367106cad6f9f"
  },
  "language_info": {
   "codemirror_mode": {
    "name": "ipython",
    "version": 3
   },
   "file_extension": ".py",
   "mimetype": "text/x-python",
   "name": "python",
   "nbconvert_exporter": "python",
   "pygments_lexer": "ipython3",
   "version": "3.7.6"
  }
 },
 "nbformat": 4,
 "nbformat_minor": 2
}
