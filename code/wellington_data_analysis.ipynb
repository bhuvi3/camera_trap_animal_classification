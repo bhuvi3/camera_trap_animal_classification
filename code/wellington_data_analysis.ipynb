{
 "cells": [
  {
   "cell_type": "markdown",
   "metadata": {},
   "source": [
    "# Wellington Data Analysis"
   ]
  },
  {
   "cell_type": "markdown",
   "metadata": {},
   "source": [
    "_Author_: Darshan Mehta\n",
    "\n",
    "The purpose of this notebook is to perform an investigatory analysis of the Wellington Dataset ([link](http://lila.science/datasets/wellingtoncameratraps)) CSV metadata file (present [here](https://lilablobssc.blob.core.windows.net/wellingtoncameratraps/wellington_camera_traps.csv.zip)) to identify, understand and possibly modify the information present in the file."
   ]
  },
  {
   "cell_type": "code",
   "execution_count": 13,
   "metadata": {},
   "outputs": [],
   "source": [
    "import os\n",
    "\n",
    "import numpy as np\n",
    "import pandas as pd\n",
    "import matplotlib.pyplot as plt\n",
    "import seaborn as sns\n",
    "\n",
    "sns.set()\n",
    "%matplotlib inline"
   ]
  },
  {
   "cell_type": "code",
   "execution_count": 2,
   "metadata": {},
   "outputs": [],
   "source": [
    "# Read the file\n",
    "file_path = os.path.join(os.getcwd(), '..', 'data', 'wellington_camera_traps.csv')\n",
    "\n",
    "raw_data = pd.read_csv(file_path)"
   ]
  },
  {
   "cell_type": "code",
   "execution_count": 3,
   "metadata": {},
   "outputs": [
    {
     "data": {
      "text/html": [
       "<div>\n",
       "<style scoped>\n",
       "    .dataframe tbody tr th:only-of-type {\n",
       "        vertical-align: middle;\n",
       "    }\n",
       "\n",
       "    .dataframe tbody tr th {\n",
       "        vertical-align: top;\n",
       "    }\n",
       "\n",
       "    .dataframe thead th {\n",
       "        text-align: right;\n",
       "    }\n",
       "</style>\n",
       "<table border=\"1\" class=\"dataframe\">\n",
       "  <thead>\n",
       "    <tr style=\"text-align: right;\">\n",
       "      <th></th>\n",
       "      <th>sequence</th>\n",
       "      <th>image_sequence</th>\n",
       "      <th>file</th>\n",
       "      <th>label</th>\n",
       "      <th>site</th>\n",
       "      <th>date</th>\n",
       "      <th>camera</th>\n",
       "    </tr>\n",
       "  </thead>\n",
       "  <tbody>\n",
       "    <tr>\n",
       "      <th>0</th>\n",
       "      <td>2</td>\n",
       "      <td>image1</td>\n",
       "      <td>290716114012001a1116.jpg</td>\n",
       "      <td>BIRD</td>\n",
       "      <td>001a</td>\n",
       "      <td>7/29/2016 11:40</td>\n",
       "      <td>111</td>\n",
       "    </tr>\n",
       "    <tr>\n",
       "      <th>1</th>\n",
       "      <td>12</td>\n",
       "      <td>image1</td>\n",
       "      <td>100816090812001a1111.jpg</td>\n",
       "      <td>BIRD</td>\n",
       "      <td>001a</td>\n",
       "      <td>8/10/2016 9:08</td>\n",
       "      <td>111</td>\n",
       "    </tr>\n",
       "    <tr>\n",
       "      <th>2</th>\n",
       "      <td>17</td>\n",
       "      <td>image1</td>\n",
       "      <td>180516121622001a1602.jpg</td>\n",
       "      <td>BIRD</td>\n",
       "      <td>001a</td>\n",
       "      <td>5/18/2016 12:16</td>\n",
       "      <td>160</td>\n",
       "    </tr>\n",
       "    <tr>\n",
       "      <th>3</th>\n",
       "      <td>18</td>\n",
       "      <td>image1</td>\n",
       "      <td>260416120224001a1601.jpg</td>\n",
       "      <td>BIRD</td>\n",
       "      <td>001a</td>\n",
       "      <td>4/26/2016 12:02</td>\n",
       "      <td>160</td>\n",
       "    </tr>\n",
       "    <tr>\n",
       "      <th>4</th>\n",
       "      <td>20</td>\n",
       "      <td>image1</td>\n",
       "      <td>160516023810001a1606.jpg</td>\n",
       "      <td>CAT</td>\n",
       "      <td>001a</td>\n",
       "      <td>5/16/2016 2:38</td>\n",
       "      <td>160</td>\n",
       "    </tr>\n",
       "  </tbody>\n",
       "</table>\n",
       "</div>"
      ],
      "text/plain": [
       "   sequence image_sequence                      file label  site  \\\n",
       "0         2         image1  290716114012001a1116.jpg  BIRD  001a   \n",
       "1        12         image1  100816090812001a1111.jpg  BIRD  001a   \n",
       "2        17         image1  180516121622001a1602.jpg  BIRD  001a   \n",
       "3        18         image1  260416120224001a1601.jpg  BIRD  001a   \n",
       "4        20         image1  160516023810001a1606.jpg   CAT  001a   \n",
       "\n",
       "              date camera  \n",
       "0  7/29/2016 11:40    111  \n",
       "1   8/10/2016 9:08    111  \n",
       "2  5/18/2016 12:16    160  \n",
       "3  4/26/2016 12:02    160  \n",
       "4   5/16/2016 2:38    160  "
      ]
     },
     "execution_count": 3,
     "metadata": {},
     "output_type": "execute_result"
    }
   ],
   "source": [
    "# Print some demo top rows\n",
    "raw_data.head()"
   ]
  },
  {
   "cell_type": "markdown",
   "metadata": {},
   "source": [
    "The dataset webpage says that there are 270,450 images from 187 camera locations in the dataset. Each of the 90,150 sequences contain 3 images taken as part of the burst imagery. Each sequence is classified into 15 animal categories, empty, and unclassifiable. Approximately 17% of images are labeled as empty. Let us verify this dataset to make sure we are not missing any part of it."
   ]
  },
  {
   "cell_type": "code",
   "execution_count": 4,
   "metadata": {},
   "outputs": [
    {
     "name": "stdout",
     "output_type": "stream",
     "text": [
      "There are 270450 images in the dataset.\n"
     ]
    }
   ],
   "source": [
    "print(\"There are\", len(raw_data), \"images in the dataset.\")"
   ]
  },
  {
   "cell_type": "code",
   "execution_count": 5,
   "metadata": {},
   "outputs": [
    {
     "name": "stdout",
     "output_type": "stream",
     "text": [
      "There are 129 unique camera locations in the dataset.\n"
     ]
    }
   ],
   "source": [
    "print(\"There are\", len(raw_data.camera.unique()), \"unique camera locations in the dataset.\")"
   ]
  },
  {
   "cell_type": "markdown",
   "metadata": {},
   "source": [
    "Hmmm... $\\large{🐟}$. I'm not sure how useful it is to have the right camera locations for our problem statement right now, but it is good that we have found and documented the issue so that we can trace back if we face a problem in the future."
   ]
  },
  {
   "cell_type": "code",
   "execution_count": 6,
   "metadata": {},
   "outputs": [
    {
     "name": "stdout",
     "output_type": "stream",
     "text": [
      "There are 17 unique labels in the dataset.\n"
     ]
    }
   ],
   "source": [
    "print(\"There are\", len(raw_data.label.unique()), \"unique labels in the dataset.\")"
   ]
  },
  {
   "cell_type": "code",
   "execution_count": 7,
   "metadata": {},
   "outputs": [
    {
     "name": "stdout",
     "output_type": "stream",
     "text": [
      "There are 90478 unique sequences in the dataset.\n"
     ]
    }
   ],
   "source": [
    "print(\"There are\", len(raw_data.sequence.unique()), \"unique sequences in the dataset.\")"
   ]
  },
  {
   "cell_type": "markdown",
   "metadata": {},
   "source": [
    "Hmmmm.. extra $\\huge{🐟}$. This means that not every sequence has 3 images. Let's see what are we facing here. "
   ]
  },
  {
   "cell_type": "code",
   "execution_count": 8,
   "metadata": {},
   "outputs": [
    {
     "name": "stdout",
     "output_type": "stream",
     "text": [
      "There various unique counts of images in sequences are: [3 2 1]\n"
     ]
    }
   ],
   "source": [
    "unique_image_counts = raw_data.groupby('sequence')[\"image_sequence\"].transform(\"count\").unique()\n",
    "print(\"There various unique counts of images in sequences are:\", unique_image_counts)"
   ]
  },
  {
   "cell_type": "markdown",
   "metadata": {},
   "source": [
    "Interesting $\\large{🤔}$. Let's dive deeper to see what kind of sequences these are that don't have 3 images."
   ]
  },
  {
   "cell_type": "code",
   "execution_count": 9,
   "metadata": {},
   "outputs": [
    {
     "name": "stdout",
     "output_type": "stream",
     "text": [
      "There are a total of 837 sequences with less than 3 images.\n"
     ]
    },
    {
     "data": {
      "text/html": [
       "<div>\n",
       "<style scoped>\n",
       "    .dataframe tbody tr th:only-of-type {\n",
       "        vertical-align: middle;\n",
       "    }\n",
       "\n",
       "    .dataframe tbody tr th {\n",
       "        vertical-align: top;\n",
       "    }\n",
       "\n",
       "    .dataframe thead th {\n",
       "        text-align: right;\n",
       "    }\n",
       "</style>\n",
       "<table border=\"1\" class=\"dataframe\">\n",
       "  <thead>\n",
       "    <tr style=\"text-align: right;\">\n",
       "      <th></th>\n",
       "      <th>sequence</th>\n",
       "      <th>image_sequence</th>\n",
       "      <th>file</th>\n",
       "      <th>label</th>\n",
       "      <th>site</th>\n",
       "      <th>date</th>\n",
       "      <th>camera</th>\n",
       "      <th>sequence_image_count</th>\n",
       "    </tr>\n",
       "  </thead>\n",
       "  <tbody>\n",
       "    <tr>\n",
       "      <th>726</th>\n",
       "      <td>1201</td>\n",
       "      <td>image1</td>\n",
       "      <td>190616143858005as131.jpg</td>\n",
       "      <td>BIRD</td>\n",
       "      <td>005a</td>\n",
       "      <td>6/19/2016 14:38</td>\n",
       "      <td>s13</td>\n",
       "      <td>2</td>\n",
       "    </tr>\n",
       "    <tr>\n",
       "      <th>1030</th>\n",
       "      <td>1681</td>\n",
       "      <td>image1</td>\n",
       "      <td>200416105138008as231.jpg</td>\n",
       "      <td>BIRD</td>\n",
       "      <td>008a</td>\n",
       "      <td>4/20/2016 10:51</td>\n",
       "      <td>s23</td>\n",
       "      <td>2</td>\n",
       "    </tr>\n",
       "    <tr>\n",
       "      <th>2493</th>\n",
       "      <td>4177</td>\n",
       "      <td>image1</td>\n",
       "      <td>260616045024017c5901.jpg</td>\n",
       "      <td>CAT</td>\n",
       "      <td>017c</td>\n",
       "      <td>6/26/2016 4:50</td>\n",
       "      <td>590</td>\n",
       "      <td>2</td>\n",
       "    </tr>\n",
       "    <tr>\n",
       "      <th>3604</th>\n",
       "      <td>5997</td>\n",
       "      <td>image1</td>\n",
       "      <td>260616225616030cs512.jpg</td>\n",
       "      <td>CAT</td>\n",
       "      <td>030c</td>\n",
       "      <td>6/26/2016 22:56</td>\n",
       "      <td>s51</td>\n",
       "      <td>2</td>\n",
       "    </tr>\n",
       "    <tr>\n",
       "      <th>5197</th>\n",
       "      <td>8617</td>\n",
       "      <td>image1</td>\n",
       "      <td>080816075142037b3101.jpg</td>\n",
       "      <td>BIRD</td>\n",
       "      <td>037b</td>\n",
       "      <td>8/8/2016 7:51</td>\n",
       "      <td>310</td>\n",
       "      <td>2</td>\n",
       "    </tr>\n",
       "  </tbody>\n",
       "</table>\n",
       "</div>"
      ],
      "text/plain": [
       "      sequence image_sequence                      file label  site  \\\n",
       "726       1201         image1  190616143858005as131.jpg  BIRD  005a   \n",
       "1030      1681         image1  200416105138008as231.jpg  BIRD  008a   \n",
       "2493      4177         image1  260616045024017c5901.jpg   CAT  017c   \n",
       "3604      5997         image1  260616225616030cs512.jpg   CAT  030c   \n",
       "5197      8617         image1  080816075142037b3101.jpg  BIRD  037b   \n",
       "\n",
       "                 date camera  sequence_image_count  \n",
       "726   6/19/2016 14:38    s13                     2  \n",
       "1030  4/20/2016 10:51    s23                     2  \n",
       "2493   6/26/2016 4:50    590                     2  \n",
       "3604  6/26/2016 22:56    s51                     2  \n",
       "5197    8/8/2016 7:51    310                     2  "
      ]
     },
     "execution_count": 9,
     "metadata": {},
     "output_type": "execute_result"
    }
   ],
   "source": [
    "raw_data['sequence_image_count'] = raw_data.groupby('sequence')[\"image_sequence\"].transform(\"count\")\n",
    "print('There are a total of', sum(raw_data.sequence_image_count < 3), 'sequences with less than 3 images.')\n",
    "raw_data[raw_data.sequence_image_count < 3].head()"
   ]
  },
  {
   "cell_type": "markdown",
   "metadata": {},
   "source": [
    "These seem to be very normal sequences with nothing peculiar about them. For the sake of simplicity, let us discard all such sequences. Let's also discard the rows where the label is `UNCLASSIFIABLE` since we have no idea what those are. "
   ]
  },
  {
   "cell_type": "code",
   "execution_count": 16,
   "metadata": {},
   "outputs": [],
   "source": [
    "invalid_rows = (raw_data.label == 'UNCLASSIFIABLE') | (raw_data.sequence_image_count < 3)\n",
    "filtered_data = raw_data[~invalid_rows]"
   ]
  },
  {
   "cell_type": "code",
   "execution_count": 17,
   "metadata": {},
   "outputs": [
    {
     "data": {
      "text/plain": [
       "0.17107591726314603"
      ]
     },
     "execution_count": 17,
     "metadata": {},
     "output_type": "execute_result"
    }
   ],
   "source": [
    "len(filtered_data[filtered_data.label == 'NOTHINGHERE']) / len(filtered_data)"
   ]
  },
  {
   "cell_type": "markdown",
   "metadata": {},
   "source": [
    "Since for our problem, we want to first learn to classify if a frame has animal or not, let's create a new binary label."
   ]
  },
  {
   "cell_type": "code",
   "execution_count": 18,
   "metadata": {},
   "outputs": [
    {
     "name": "stderr",
     "output_type": "stream",
     "text": [
      "/Users/Darshan/anaconda3/lib/python3.7/site-packages/ipykernel_launcher.py:1: SettingWithCopyWarning: \n",
      "A value is trying to be set on a copy of a slice from a DataFrame.\n",
      "Try using .loc[row_indexer,col_indexer] = value instead\n",
      "\n",
      "See the caveats in the documentation: http://pandas.pydata.org/pandas-docs/stable/indexing.html#indexing-view-versus-copy\n",
      "  \"\"\"Entry point for launching an IPython kernel.\n"
     ]
    },
    {
     "data": {
      "text/html": [
       "<div>\n",
       "<style scoped>\n",
       "    .dataframe tbody tr th:only-of-type {\n",
       "        vertical-align: middle;\n",
       "    }\n",
       "\n",
       "    .dataframe tbody tr th {\n",
       "        vertical-align: top;\n",
       "    }\n",
       "\n",
       "    .dataframe thead th {\n",
       "        text-align: right;\n",
       "    }\n",
       "</style>\n",
       "<table border=\"1\" class=\"dataframe\">\n",
       "  <thead>\n",
       "    <tr style=\"text-align: right;\">\n",
       "      <th></th>\n",
       "      <th>sequence</th>\n",
       "      <th>image_sequence</th>\n",
       "      <th>file</th>\n",
       "      <th>label</th>\n",
       "      <th>site</th>\n",
       "      <th>date</th>\n",
       "      <th>camera</th>\n",
       "      <th>sequence_image_count</th>\n",
       "      <th>has_animal</th>\n",
       "    </tr>\n",
       "  </thead>\n",
       "  <tbody>\n",
       "    <tr>\n",
       "      <th>0</th>\n",
       "      <td>2</td>\n",
       "      <td>image1</td>\n",
       "      <td>290716114012001a1116.jpg</td>\n",
       "      <td>BIRD</td>\n",
       "      <td>001a</td>\n",
       "      <td>7/29/2016 11:40</td>\n",
       "      <td>111</td>\n",
       "      <td>3</td>\n",
       "      <td>1</td>\n",
       "    </tr>\n",
       "    <tr>\n",
       "      <th>1</th>\n",
       "      <td>12</td>\n",
       "      <td>image1</td>\n",
       "      <td>100816090812001a1111.jpg</td>\n",
       "      <td>BIRD</td>\n",
       "      <td>001a</td>\n",
       "      <td>8/10/2016 9:08</td>\n",
       "      <td>111</td>\n",
       "      <td>3</td>\n",
       "      <td>1</td>\n",
       "    </tr>\n",
       "    <tr>\n",
       "      <th>2</th>\n",
       "      <td>17</td>\n",
       "      <td>image1</td>\n",
       "      <td>180516121622001a1602.jpg</td>\n",
       "      <td>BIRD</td>\n",
       "      <td>001a</td>\n",
       "      <td>5/18/2016 12:16</td>\n",
       "      <td>160</td>\n",
       "      <td>3</td>\n",
       "      <td>1</td>\n",
       "    </tr>\n",
       "    <tr>\n",
       "      <th>3</th>\n",
       "      <td>18</td>\n",
       "      <td>image1</td>\n",
       "      <td>260416120224001a1601.jpg</td>\n",
       "      <td>BIRD</td>\n",
       "      <td>001a</td>\n",
       "      <td>4/26/2016 12:02</td>\n",
       "      <td>160</td>\n",
       "      <td>3</td>\n",
       "      <td>1</td>\n",
       "    </tr>\n",
       "    <tr>\n",
       "      <th>4</th>\n",
       "      <td>20</td>\n",
       "      <td>image1</td>\n",
       "      <td>160516023810001a1606.jpg</td>\n",
       "      <td>CAT</td>\n",
       "      <td>001a</td>\n",
       "      <td>5/16/2016 2:38</td>\n",
       "      <td>160</td>\n",
       "      <td>3</td>\n",
       "      <td>1</td>\n",
       "    </tr>\n",
       "  </tbody>\n",
       "</table>\n",
       "</div>"
      ],
      "text/plain": [
       "   sequence image_sequence                      file label  site  \\\n",
       "0         2         image1  290716114012001a1116.jpg  BIRD  001a   \n",
       "1        12         image1  100816090812001a1111.jpg  BIRD  001a   \n",
       "2        17         image1  180516121622001a1602.jpg  BIRD  001a   \n",
       "3        18         image1  260416120224001a1601.jpg  BIRD  001a   \n",
       "4        20         image1  160516023810001a1606.jpg   CAT  001a   \n",
       "\n",
       "              date camera  sequence_image_count  has_animal  \n",
       "0  7/29/2016 11:40    111                     3           1  \n",
       "1   8/10/2016 9:08    111                     3           1  \n",
       "2  5/18/2016 12:16    160                     3           1  \n",
       "3  4/26/2016 12:02    160                     3           1  \n",
       "4   5/16/2016 2:38    160                     3           1  "
      ]
     },
     "execution_count": 18,
     "metadata": {},
     "output_type": "execute_result"
    }
   ],
   "source": [
    "filtered_data['has_animal'] = (filtered_data.label != 'NOTHINGHERE').astype(int)\n",
    "filtered_data.head()"
   ]
  },
  {
   "cell_type": "markdown",
   "metadata": {},
   "source": [
    "Now, let us create a column where we would mention if a given sequence belongs to the training, vaidation or the testing set. We will write a function such that it would allot sequences to these sets with probability 70:15:15 for train, val and test sets."
   ]
  },
  {
   "cell_type": "code",
   "execution_count": 28,
   "metadata": {},
   "outputs": [],
   "source": [
    "def get_set_mapping(values):\n",
    "    random_nums = np.random.uniform(0, 1, values.shape[0])\n",
    "    mapping = {}\n",
    "    for value, random_num in zip(values, random_nums):\n",
    "        if random_num < 0.7:\n",
    "            mapping[value] = 'train'\n",
    "        elif random_num < 0.85:\n",
    "            mapping[value] = 'val'\n",
    "        else:\n",
    "            mapping[value] = 'test'\n",
    "    return mapping"
   ]
  },
  {
   "cell_type": "code",
   "execution_count": 29,
   "metadata": {},
   "outputs": [
    {
     "name": "stderr",
     "output_type": "stream",
     "text": [
      "/Users/Darshan/anaconda3/lib/python3.7/site-packages/ipykernel_launcher.py:2: SettingWithCopyWarning: \n",
      "A value is trying to be set on a copy of a slice from a DataFrame.\n",
      "Try using .loc[row_indexer,col_indexer] = value instead\n",
      "\n",
      "See the caveats in the documentation: http://pandas.pydata.org/pandas-docs/stable/indexing.html#indexing-view-versus-copy\n",
      "  \n"
     ]
    },
    {
     "data": {
      "text/html": [
       "<div>\n",
       "<style scoped>\n",
       "    .dataframe tbody tr th:only-of-type {\n",
       "        vertical-align: middle;\n",
       "    }\n",
       "\n",
       "    .dataframe tbody tr th {\n",
       "        vertical-align: top;\n",
       "    }\n",
       "\n",
       "    .dataframe thead th {\n",
       "        text-align: right;\n",
       "    }\n",
       "</style>\n",
       "<table border=\"1\" class=\"dataframe\">\n",
       "  <thead>\n",
       "    <tr style=\"text-align: right;\">\n",
       "      <th></th>\n",
       "      <th>sequence</th>\n",
       "      <th>image_sequence</th>\n",
       "      <th>file</th>\n",
       "      <th>label</th>\n",
       "      <th>site</th>\n",
       "      <th>date</th>\n",
       "      <th>camera</th>\n",
       "      <th>sequence_image_count</th>\n",
       "      <th>has_animal</th>\n",
       "      <th>set</th>\n",
       "    </tr>\n",
       "  </thead>\n",
       "  <tbody>\n",
       "    <tr>\n",
       "      <th>0</th>\n",
       "      <td>2</td>\n",
       "      <td>image1</td>\n",
       "      <td>290716114012001a1116.jpg</td>\n",
       "      <td>BIRD</td>\n",
       "      <td>001a</td>\n",
       "      <td>7/29/2016 11:40</td>\n",
       "      <td>111</td>\n",
       "      <td>3</td>\n",
       "      <td>1</td>\n",
       "      <td>train</td>\n",
       "    </tr>\n",
       "    <tr>\n",
       "      <th>1</th>\n",
       "      <td>12</td>\n",
       "      <td>image1</td>\n",
       "      <td>100816090812001a1111.jpg</td>\n",
       "      <td>BIRD</td>\n",
       "      <td>001a</td>\n",
       "      <td>8/10/2016 9:08</td>\n",
       "      <td>111</td>\n",
       "      <td>3</td>\n",
       "      <td>1</td>\n",
       "      <td>train</td>\n",
       "    </tr>\n",
       "    <tr>\n",
       "      <th>2</th>\n",
       "      <td>17</td>\n",
       "      <td>image1</td>\n",
       "      <td>180516121622001a1602.jpg</td>\n",
       "      <td>BIRD</td>\n",
       "      <td>001a</td>\n",
       "      <td>5/18/2016 12:16</td>\n",
       "      <td>160</td>\n",
       "      <td>3</td>\n",
       "      <td>1</td>\n",
       "      <td>train</td>\n",
       "    </tr>\n",
       "    <tr>\n",
       "      <th>3</th>\n",
       "      <td>18</td>\n",
       "      <td>image1</td>\n",
       "      <td>260416120224001a1601.jpg</td>\n",
       "      <td>BIRD</td>\n",
       "      <td>001a</td>\n",
       "      <td>4/26/2016 12:02</td>\n",
       "      <td>160</td>\n",
       "      <td>3</td>\n",
       "      <td>1</td>\n",
       "      <td>train</td>\n",
       "    </tr>\n",
       "    <tr>\n",
       "      <th>4</th>\n",
       "      <td>20</td>\n",
       "      <td>image1</td>\n",
       "      <td>160516023810001a1606.jpg</td>\n",
       "      <td>CAT</td>\n",
       "      <td>001a</td>\n",
       "      <td>5/16/2016 2:38</td>\n",
       "      <td>160</td>\n",
       "      <td>3</td>\n",
       "      <td>1</td>\n",
       "      <td>test</td>\n",
       "    </tr>\n",
       "  </tbody>\n",
       "</table>\n",
       "</div>"
      ],
      "text/plain": [
       "   sequence image_sequence                      file label  site  \\\n",
       "0         2         image1  290716114012001a1116.jpg  BIRD  001a   \n",
       "1        12         image1  100816090812001a1111.jpg  BIRD  001a   \n",
       "2        17         image1  180516121622001a1602.jpg  BIRD  001a   \n",
       "3        18         image1  260416120224001a1601.jpg  BIRD  001a   \n",
       "4        20         image1  160516023810001a1606.jpg   CAT  001a   \n",
       "\n",
       "              date camera  sequence_image_count  has_animal    set  \n",
       "0  7/29/2016 11:40    111                     3           1  train  \n",
       "1   8/10/2016 9:08    111                     3           1  train  \n",
       "2  5/18/2016 12:16    160                     3           1  train  \n",
       "3  4/26/2016 12:02    160                     3           1  train  \n",
       "4   5/16/2016 2:38    160                     3           1   test  "
      ]
     },
     "execution_count": 29,
     "metadata": {},
     "output_type": "execute_result"
    }
   ],
   "source": [
    "set_mapping = get_set_mapping(filtered_data.sequence.unique())\n",
    "filtered_data['set'] = filtered_data.sequence.map(set_mapping.get)\n",
    "filtered_data.head()"
   ]
  },
  {
   "cell_type": "markdown",
   "metadata": {},
   "source": [
    "Now, let us save this file to disk as `final_dataset.csv`."
   ]
  },
  {
   "cell_type": "code",
   "execution_count": 34,
   "metadata": {},
   "outputs": [],
   "source": [
    "output_filepath = os.path.join(os.getcwd(), '..', 'data', 'final_dataset.csv')\n",
    "filtered_data.to_csv(output_filepath, index=False)"
   ]
  },
  {
   "cell_type": "markdown",
   "metadata": {},
   "source": [
    "Now, when working with Tensorflow Datasets, in order to speed up, we need to restructure our dataset and create 3 files, one each for train, test and val. Each row in this file would correspond to a sequence number and would have the label and path to all the three images from the burst."
   ]
  },
  {
   "cell_type": "code",
   "execution_count": 91,
   "metadata": {},
   "outputs": [],
   "source": [
    "def get_pivoted_subset(data, subset):\n",
    "    subset_data = data.loc[data.set == subset]\n",
    "    pivoted_data = subset_data.pivot(index='sequence', \n",
    "                                     columns='image_sequence', \n",
    "                                     values='file').reset_index()\n",
    "    pivoted_data.columns.name = None\n",
    "    label_mapper = data[['sequence', 'has_animal']].drop_duplicates('sequence')\\\n",
    "                   .set_index('sequence').to_dict()['has_animal']\n",
    "    pivoted_data['has_animal'] = pivoted_data.sequence.map(label_mapper.get)\n",
    "    return pivoted_data"
   ]
  },
  {
   "cell_type": "markdown",
   "metadata": {},
   "source": [
    "Here's a demo of what the output of the above function would be like:"
   ]
  },
  {
   "cell_type": "code",
   "execution_count": 92,
   "metadata": {},
   "outputs": [
    {
     "data": {
      "text/html": [
       "<div>\n",
       "<style scoped>\n",
       "    .dataframe tbody tr th:only-of-type {\n",
       "        vertical-align: middle;\n",
       "    }\n",
       "\n",
       "    .dataframe tbody tr th {\n",
       "        vertical-align: top;\n",
       "    }\n",
       "\n",
       "    .dataframe thead th {\n",
       "        text-align: right;\n",
       "    }\n",
       "</style>\n",
       "<table border=\"1\" class=\"dataframe\">\n",
       "  <thead>\n",
       "    <tr style=\"text-align: right;\">\n",
       "      <th></th>\n",
       "      <th>sequence</th>\n",
       "      <th>image1</th>\n",
       "      <th>image2</th>\n",
       "      <th>image3</th>\n",
       "      <th>has_animal</th>\n",
       "    </tr>\n",
       "  </thead>\n",
       "  <tbody>\n",
       "    <tr>\n",
       "      <th>0</th>\n",
       "      <td>2</td>\n",
       "      <td>290716114012001a1116.jpg</td>\n",
       "      <td>290716114014001a1114.jpg</td>\n",
       "      <td>290716114014001a1115.jpg</td>\n",
       "      <td>1</td>\n",
       "    </tr>\n",
       "    <tr>\n",
       "      <th>1</th>\n",
       "      <td>3</td>\n",
       "      <td>280716130614001a1111.jpg</td>\n",
       "      <td>280716130614001a1112.jpg</td>\n",
       "      <td>280716130614001a1113.jpg</td>\n",
       "      <td>0</td>\n",
       "    </tr>\n",
       "    <tr>\n",
       "      <th>2</th>\n",
       "      <td>4</td>\n",
       "      <td>280716130526001a1113.jpg</td>\n",
       "      <td>280716130528001a1111.jpg</td>\n",
       "      <td>280716130528001a1112.jpg</td>\n",
       "      <td>0</td>\n",
       "    </tr>\n",
       "    <tr>\n",
       "      <th>3</th>\n",
       "      <td>5</td>\n",
       "      <td>250716162756001a1113.jpg</td>\n",
       "      <td>250716162758001a1111.jpg</td>\n",
       "      <td>250716162758001a1112.jpg</td>\n",
       "      <td>0</td>\n",
       "    </tr>\n",
       "    <tr>\n",
       "      <th>4</th>\n",
       "      <td>6</td>\n",
       "      <td>250716130638001a1113.jpg</td>\n",
       "      <td>250716130640001a1111.jpg</td>\n",
       "      <td>250716130640001a1112.jpg</td>\n",
       "      <td>0</td>\n",
       "    </tr>\n",
       "  </tbody>\n",
       "</table>\n",
       "</div>"
      ],
      "text/plain": [
       "   sequence                    image1                    image2  \\\n",
       "0         2  290716114012001a1116.jpg  290716114014001a1114.jpg   \n",
       "1         3  280716130614001a1111.jpg  280716130614001a1112.jpg   \n",
       "2         4  280716130526001a1113.jpg  280716130528001a1111.jpg   \n",
       "3         5  250716162756001a1113.jpg  250716162758001a1111.jpg   \n",
       "4         6  250716130638001a1113.jpg  250716130640001a1111.jpg   \n",
       "\n",
       "                     image3  has_animal  \n",
       "0  290716114014001a1115.jpg           1  \n",
       "1  280716130614001a1113.jpg           0  \n",
       "2  280716130528001a1112.jpg           0  \n",
       "3  250716162758001a1112.jpg           0  \n",
       "4  250716130640001a1112.jpg           0  "
      ]
     },
     "execution_count": 92,
     "metadata": {},
     "output_type": "execute_result"
    }
   ],
   "source": [
    "get_pivoted_subset(filtered_data, 'train').head()"
   ]
  },
  {
   "cell_type": "code",
   "execution_count": 93,
   "metadata": {},
   "outputs": [],
   "source": [
    "# Train set\n",
    "output_filepath_train = os.path.join(os.getcwd(), '..', 'data', 'final_dataset_train.csv')\n",
    "get_pivoted_subset(filtered_data, 'train').to_csv(output_filepath_train, index=False)\n",
    "\n",
    "# Validation set\n",
    "output_filepath_val = os.path.join(os.getcwd(), '..', 'data', 'final_dataset_val.csv')\n",
    "get_pivoted_subset(filtered_data, 'val').to_csv(output_filepath_val, index=False)\n",
    "\n",
    "# Test set\n",
    "output_filepath_test = os.path.join(os.getcwd(), '..', 'data', 'final_dataset_test.csv')\n",
    "get_pivoted_subset(filtered_data, 'test').to_csv(output_filepath_test, index=False)"
   ]
  },
  {
   "cell_type": "markdown",
   "metadata": {},
   "source": [
    "## Species Classification"
   ]
  },
  {
   "cell_type": "code",
   "execution_count": 10,
   "metadata": {},
   "outputs": [],
   "source": [
    "final_data = pd.read_csv(os.path.join(os.getcwd(), '..', 'data', 'final_dataset.csv'))"
   ]
  },
  {
   "cell_type": "code",
   "execution_count": 11,
   "metadata": {},
   "outputs": [
    {
     "data": {
      "text/html": [
       "<div>\n",
       "<style scoped>\n",
       "    .dataframe tbody tr th:only-of-type {\n",
       "        vertical-align: middle;\n",
       "    }\n",
       "\n",
       "    .dataframe tbody tr th {\n",
       "        vertical-align: top;\n",
       "    }\n",
       "\n",
       "    .dataframe thead th {\n",
       "        text-align: right;\n",
       "    }\n",
       "</style>\n",
       "<table border=\"1\" class=\"dataframe\">\n",
       "  <thead>\n",
       "    <tr style=\"text-align: right;\">\n",
       "      <th></th>\n",
       "      <th>sequence</th>\n",
       "      <th>image_sequence</th>\n",
       "      <th>file</th>\n",
       "      <th>label</th>\n",
       "      <th>site</th>\n",
       "      <th>date</th>\n",
       "      <th>camera</th>\n",
       "      <th>sequence_image_count</th>\n",
       "      <th>has_animal</th>\n",
       "      <th>set</th>\n",
       "    </tr>\n",
       "  </thead>\n",
       "  <tbody>\n",
       "    <tr>\n",
       "      <th>0</th>\n",
       "      <td>2</td>\n",
       "      <td>image1</td>\n",
       "      <td>290716114012001a1116.JPG</td>\n",
       "      <td>BIRD</td>\n",
       "      <td>001a</td>\n",
       "      <td>7/29/2016 11:40</td>\n",
       "      <td>111</td>\n",
       "      <td>3</td>\n",
       "      <td>1</td>\n",
       "      <td>train</td>\n",
       "    </tr>\n",
       "    <tr>\n",
       "      <th>1</th>\n",
       "      <td>12</td>\n",
       "      <td>image1</td>\n",
       "      <td>100816090812001a1111.JPG</td>\n",
       "      <td>BIRD</td>\n",
       "      <td>001a</td>\n",
       "      <td>8/10/2016 9:08</td>\n",
       "      <td>111</td>\n",
       "      <td>3</td>\n",
       "      <td>1</td>\n",
       "      <td>train</td>\n",
       "    </tr>\n",
       "    <tr>\n",
       "      <th>2</th>\n",
       "      <td>17</td>\n",
       "      <td>image1</td>\n",
       "      <td>180516121622001a1602.JPG</td>\n",
       "      <td>BIRD</td>\n",
       "      <td>001a</td>\n",
       "      <td>5/18/2016 12:16</td>\n",
       "      <td>160</td>\n",
       "      <td>3</td>\n",
       "      <td>1</td>\n",
       "      <td>train</td>\n",
       "    </tr>\n",
       "    <tr>\n",
       "      <th>3</th>\n",
       "      <td>18</td>\n",
       "      <td>image1</td>\n",
       "      <td>260416120224001a1601.JPG</td>\n",
       "      <td>BIRD</td>\n",
       "      <td>001a</td>\n",
       "      <td>4/26/2016 12:02</td>\n",
       "      <td>160</td>\n",
       "      <td>3</td>\n",
       "      <td>1</td>\n",
       "      <td>train</td>\n",
       "    </tr>\n",
       "    <tr>\n",
       "      <th>4</th>\n",
       "      <td>20</td>\n",
       "      <td>image1</td>\n",
       "      <td>160516023810001a1606.JPG</td>\n",
       "      <td>CAT</td>\n",
       "      <td>001a</td>\n",
       "      <td>5/16/2016 2:38</td>\n",
       "      <td>160</td>\n",
       "      <td>3</td>\n",
       "      <td>1</td>\n",
       "      <td>test</td>\n",
       "    </tr>\n",
       "  </tbody>\n",
       "</table>\n",
       "</div>"
      ],
      "text/plain": [
       "   sequence image_sequence                      file label  site  \\\n",
       "0         2         image1  290716114012001a1116.JPG  BIRD  001a   \n",
       "1        12         image1  100816090812001a1111.JPG  BIRD  001a   \n",
       "2        17         image1  180516121622001a1602.JPG  BIRD  001a   \n",
       "3        18         image1  260416120224001a1601.JPG  BIRD  001a   \n",
       "4        20         image1  160516023810001a1606.JPG   CAT  001a   \n",
       "\n",
       "              date camera  sequence_image_count  has_animal    set  \n",
       "0  7/29/2016 11:40    111                     3           1  train  \n",
       "1   8/10/2016 9:08    111                     3           1  train  \n",
       "2  5/18/2016 12:16    160                     3           1  train  \n",
       "3  4/26/2016 12:02    160                     3           1  train  \n",
       "4   5/16/2016 2:38    160                     3           1   test  "
      ]
     },
     "execution_count": 11,
     "metadata": {},
     "output_type": "execute_result"
    }
   ],
   "source": [
    "final_data.head()"
   ]
  },
  {
   "cell_type": "code",
   "execution_count": 21,
   "metadata": {},
   "outputs": [
    {
     "data": {
      "text/plain": [
       "BIRD           154203\n",
       "NOTHINGHERE     45531\n",
       "CAT             30117\n",
       "HEDGEHOG        10647\n",
       "MOUSE            6477\n",
       "RABBIT           5688\n",
       "POSSUM           4326\n",
       "Ship rat         3183\n",
       "RAT              2745\n",
       "DOG               987\n",
       "Norway rat        861\n",
       "GOAT              645\n",
       "DEER              309\n",
       "HARE              207\n",
       "PIG               192\n",
       "MUSTELID           27\n",
       "Name: label, dtype: int64"
      ]
     },
     "execution_count": 21,
     "metadata": {},
     "output_type": "execute_result"
    }
   ],
   "source": [
    "final_data.label.value_counts()"
   ]
  },
  {
   "cell_type": "code",
   "execution_count": 18,
   "metadata": {
    "scrolled": false
   },
   "outputs": [
    {
     "data": {
      "text/plain": [
       "<matplotlib.axes._subplots.AxesSubplot at 0x125ed34d0>"
      ]
     },
     "execution_count": 18,
     "metadata": {},
     "output_type": "execute_result"
    },
    {
     "data": {
      "image/png": "[encoded data removed]",
      "text/plain": [
       "<Figure size 1440x720 with 1 Axes>"
      ]
     },
     "metadata": {
      "needs_background": "light"
     },
     "output_type": "display_data"
    }
   ],
   "source": [
    "plt.rcParams['figure.figsize'] = [20, 10]\n",
    "sns.countplot(final_data.label)"
   ]
  },
  {
   "cell_type": "code",
   "execution_count": 7,
   "metadata": {},
   "outputs": [
    {
     "name": "stdout",
     "output_type": "stream",
     "text": [
      "{'BIRD': 0, 'CAT': 1, 'RAT': 2, 'MOUSE': 3, 'Norway rat': 4, 'DOG': 5, 'POSSUM': 6, 'PIG': 7, 'Ship rat': 8, 'MUSTELID': 9, 'RABBIT': 10, 'DEER': 11, 'NOTHINGHERE': 12, 'HARE': 13, 'HEDGEHOG': 14, 'GOAT': 15}\n"
     ]
    }
   ],
   "source": [
    "labels = set(final_data.label.unique())\n",
    "label_mapper = {label: idx for idx, label in enumerate(labels)}\n",
    "print(label_mapper)"
   ]
  },
  {
   "cell_type": "code",
   "execution_count": 8,
   "metadata": {},
   "outputs": [
    {
     "data": {
      "text/html": [
       "<div>\n",
       "<style scoped>\n",
       "    .dataframe tbody tr th:only-of-type {\n",
       "        vertical-align: middle;\n",
       "    }\n",
       "\n",
       "    .dataframe tbody tr th {\n",
       "        vertical-align: top;\n",
       "    }\n",
       "\n",
       "    .dataframe thead th {\n",
       "        text-align: right;\n",
       "    }\n",
       "</style>\n",
       "<table border=\"1\" class=\"dataframe\">\n",
       "  <thead>\n",
       "    <tr style=\"text-align: right;\">\n",
       "      <th></th>\n",
       "      <th>sequence</th>\n",
       "      <th>image_sequence</th>\n",
       "      <th>file</th>\n",
       "      <th>label</th>\n",
       "      <th>site</th>\n",
       "      <th>date</th>\n",
       "      <th>camera</th>\n",
       "      <th>sequence_image_count</th>\n",
       "      <th>has_animal</th>\n",
       "      <th>set</th>\n",
       "    </tr>\n",
       "  </thead>\n",
       "  <tbody>\n",
       "    <tr>\n",
       "      <th>0</th>\n",
       "      <td>2</td>\n",
       "      <td>image1</td>\n",
       "      <td>290716114012001a1116.JPG</td>\n",
       "      <td>0</td>\n",
       "      <td>001a</td>\n",
       "      <td>7/29/2016 11:40</td>\n",
       "      <td>111</td>\n",
       "      <td>3</td>\n",
       "      <td>1</td>\n",
       "      <td>train</td>\n",
       "    </tr>\n",
       "    <tr>\n",
       "      <th>1</th>\n",
       "      <td>12</td>\n",
       "      <td>image1</td>\n",
       "      <td>100816090812001a1111.JPG</td>\n",
       "      <td>0</td>\n",
       "      <td>001a</td>\n",
       "      <td>8/10/2016 9:08</td>\n",
       "      <td>111</td>\n",
       "      <td>3</td>\n",
       "      <td>1</td>\n",
       "      <td>train</td>\n",
       "    </tr>\n",
       "    <tr>\n",
       "      <th>2</th>\n",
       "      <td>17</td>\n",
       "      <td>image1</td>\n",
       "      <td>180516121622001a1602.JPG</td>\n",
       "      <td>0</td>\n",
       "      <td>001a</td>\n",
       "      <td>5/18/2016 12:16</td>\n",
       "      <td>160</td>\n",
       "      <td>3</td>\n",
       "      <td>1</td>\n",
       "      <td>train</td>\n",
       "    </tr>\n",
       "    <tr>\n",
       "      <th>3</th>\n",
       "      <td>18</td>\n",
       "      <td>image1</td>\n",
       "      <td>260416120224001a1601.JPG</td>\n",
       "      <td>0</td>\n",
       "      <td>001a</td>\n",
       "      <td>4/26/2016 12:02</td>\n",
       "      <td>160</td>\n",
       "      <td>3</td>\n",
       "      <td>1</td>\n",
       "      <td>train</td>\n",
       "    </tr>\n",
       "    <tr>\n",
       "      <th>4</th>\n",
       "      <td>20</td>\n",
       "      <td>image1</td>\n",
       "      <td>160516023810001a1606.JPG</td>\n",
       "      <td>1</td>\n",
       "      <td>001a</td>\n",
       "      <td>5/16/2016 2:38</td>\n",
       "      <td>160</td>\n",
       "      <td>3</td>\n",
       "      <td>1</td>\n",
       "      <td>test</td>\n",
       "    </tr>\n",
       "  </tbody>\n",
       "</table>\n",
       "</div>"
      ],
      "text/plain": [
       "   sequence image_sequence                      file  label  site  \\\n",
       "0         2         image1  290716114012001a1116.JPG      0  001a   \n",
       "1        12         image1  100816090812001a1111.JPG      0  001a   \n",
       "2        17         image1  180516121622001a1602.JPG      0  001a   \n",
       "3        18         image1  260416120224001a1601.JPG      0  001a   \n",
       "4        20         image1  160516023810001a1606.JPG      1  001a   \n",
       "\n",
       "              date camera  sequence_image_count  has_animal    set  \n",
       "0  7/29/2016 11:40    111                     3           1  train  \n",
       "1   8/10/2016 9:08    111                     3           1  train  \n",
       "2  5/18/2016 12:16    160                     3           1  train  \n",
       "3  4/26/2016 12:02    160                     3           1  train  \n",
       "4   5/16/2016 2:38    160                     3           1   test  "
      ]
     },
     "execution_count": 8,
     "metadata": {},
     "output_type": "execute_result"
    }
   ],
   "source": [
    "final_data['label'] = final_data.label.replace(label_mapper)\n",
    "final_data.head()"
   ]
  },
  {
   "cell_type": "code",
   "execution_count": null,
   "metadata": {},
   "outputs": [],
   "source": []
  },
  {
   "cell_type": "code",
   "execution_count": 9,
   "metadata": {},
   "outputs": [],
   "source": [
    "def get_pivoted_subset(data, subset):\n",
    "    subset_data = data.loc[data.set == subset]\n",
    "    pivoted_data = subset_data.pivot(index='sequence', \n",
    "                                     columns='image_sequence', \n",
    "                                     values='file').reset_index()\n",
    "    pivoted_data.columns.name = None\n",
    "    label_mapper = data[['sequence', 'label']].drop_duplicates('sequence')\\\n",
    "                   .set_index('sequence').to_dict()['label']\n",
    "    pivoted_data['label'] = pivoted_data.sequence.map(label_mapper.get)\n",
    "    return pivoted_data"
   ]
  },
  {
   "cell_type": "code",
   "execution_count": null,
   "metadata": {},
   "outputs": [],
   "source": [
    "# Train set\n",
    "output_filepath_train = os.path.join(os.getcwd(), '..', 'data', 'final_dataset_train.csv')\n",
    "get_pivoted_subset(filtered_data, 'train').to_csv(output_filepath_train, index=False)\n",
    "\n",
    "# Validation set\n",
    "output_filepath_val = os.path.join(os.getcwd(), '..', 'data', 'final_dataset_val.csv')\n",
    "get_pivoted_subset(filtered_data, 'val').to_csv(output_filepath_val, index=False)\n",
    "\n",
    "# Test set\n",
    "output_filepath_test = os.path.join(os.getcwd(), '..', 'data', 'final_dataset_test.csv')\n",
    "get_pivoted_subset(filtered_data, 'test').to_csv(output_filepath_test, index=False)"
   ]
  },
  {
   "cell_type": "code",
   "execution_count": 19,
   "metadata": {},
   "outputs": [
    {
     "data": {
      "text/html": [
       "<div>\n",
       "<style scoped>\n",
       "    .dataframe tbody tr th:only-of-type {\n",
       "        vertical-align: middle;\n",
       "    }\n",
       "\n",
       "    .dataframe tbody tr th {\n",
       "        vertical-align: top;\n",
       "    }\n",
       "\n",
       "    .dataframe thead th {\n",
       "        text-align: right;\n",
       "    }\n",
       "</style>\n",
       "<table border=\"1\" class=\"dataframe\">\n",
       "  <thead>\n",
       "    <tr style=\"text-align: right;\">\n",
       "      <th></th>\n",
       "      <th>sequence</th>\n",
       "      <th>image_sequence</th>\n",
       "      <th>file</th>\n",
       "      <th>label</th>\n",
       "      <th>site</th>\n",
       "      <th>date</th>\n",
       "      <th>camera</th>\n",
       "      <th>sequence_image_count</th>\n",
       "      <th>has_animal</th>\n",
       "      <th>set</th>\n",
       "    </tr>\n",
       "  </thead>\n",
       "  <tbody>\n",
       "    <tr>\n",
       "      <th>264870</th>\n",
       "      <td>66983</td>\n",
       "      <td>image3</td>\n",
       "      <td>2703151508000235S133.JPG</td>\n",
       "      <td>NOTHINGHERE</td>\n",
       "      <td>235</td>\n",
       "      <td>3/27/2015 15:08</td>\n",
       "      <td>S13</td>\n",
       "      <td>3</td>\n",
       "      <td>0</td>\n",
       "      <td>train</td>\n",
       "    </tr>\n",
       "    <tr>\n",
       "      <th>171261</th>\n",
       "      <td>50166</td>\n",
       "      <td>image2</td>\n",
       "      <td>300116061602023b3302.JPG</td>\n",
       "      <td>RABBIT</td>\n",
       "      <td>023b</td>\n",
       "      <td>1/30/2016 6:16</td>\n",
       "      <td>330</td>\n",
       "      <td>3</td>\n",
       "      <td>1</td>\n",
       "      <td>val</td>\n",
       "    </tr>\n",
       "    <tr>\n",
       "      <th>104920</th>\n",
       "      <td>38086</td>\n",
       "      <td>image2</td>\n",
       "      <td>261215070304029a3302.JPG</td>\n",
       "      <td>BIRD</td>\n",
       "      <td>029a</td>\n",
       "      <td>12/26/2015 7:03</td>\n",
       "      <td>330</td>\n",
       "      <td>3</td>\n",
       "      <td>1</td>\n",
       "      <td>train</td>\n",
       "    </tr>\n",
       "    <tr>\n",
       "      <th>254358</th>\n",
       "      <td>68309</td>\n",
       "      <td>image3</td>\n",
       "      <td>2706152354440267L036.JPG</td>\n",
       "      <td>POSSUM</td>\n",
       "      <td>267</td>\n",
       "      <td>6/27/2015 23:54</td>\n",
       "      <td>L03</td>\n",
       "      <td>3</td>\n",
       "      <td>1</td>\n",
       "      <td>train</td>\n",
       "    </tr>\n",
       "    <tr>\n",
       "      <th>93656</th>\n",
       "      <td>8246</td>\n",
       "      <td>image2</td>\n",
       "      <td>220116155436031a2541.JPG</td>\n",
       "      <td>BIRD</td>\n",
       "      <td>031a</td>\n",
       "      <td>1/22/2016 15:54</td>\n",
       "      <td>254</td>\n",
       "      <td>3</td>\n",
       "      <td>1</td>\n",
       "      <td>train</td>\n",
       "    </tr>\n",
       "  </tbody>\n",
       "</table>\n",
       "</div>"
      ],
      "text/plain": [
       "        sequence image_sequence                      file        label  site  \\\n",
       "264870     66983         image3  2703151508000235S133.JPG  NOTHINGHERE   235   \n",
       "171261     50166         image2  300116061602023b3302.JPG       RABBIT  023b   \n",
       "104920     38086         image2  261215070304029a3302.JPG         BIRD  029a   \n",
       "254358     68309         image3  2706152354440267L036.JPG       POSSUM   267   \n",
       "93656       8246         image2  220116155436031a2541.JPG         BIRD  031a   \n",
       "\n",
       "                   date camera  sequence_image_count  has_animal    set  \n",
       "264870  3/27/2015 15:08    S13                     3           0  train  \n",
       "171261   1/30/2016 6:16    330                     3           1    val  \n",
       "104920  12/26/2015 7:03    330                     3           1  train  \n",
       "254358  6/27/2015 23:54    L03                     3           1  train  \n",
       "93656   1/22/2016 15:54    254                     3           1  train  "
      ]
     },
     "execution_count": 19,
     "metadata": {},
     "output_type": "execute_result"
    }
   ],
   "source": [
    "final_data.sample(5)"
   ]
  },
  {
   "cell_type": "code",
   "execution_count": null,
   "metadata": {},
   "outputs": [],
   "source": []
  }
 ],
 "metadata": {
  "kernelspec": {
   "display_name": "Python 3",
   "language": "python",
   "name": "python3"
  },
  "language_info": {
   "codemirror_mode": {
    "name": "ipython",
    "version": 3
   },
   "file_extension": ".py",
   "mimetype": "text/x-python",
   "name": "python",
   "nbconvert_exporter": "python",
   "pygments_lexer": "ipython3",
   "version": "3.7.6"
  }
 },
 "nbformat": 4,
 "nbformat_minor": 2
}
