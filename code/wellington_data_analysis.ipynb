{
 "cells": [
  {
   "cell_type": "markdown",
   "metadata": {},
   "source": [
    "# Wellington Data Analysis"
   ]
  },
  {
   "cell_type": "markdown",
   "metadata": {},
   "source": [
    "_Author_: Darshan Mehta\n",
    "\n",
    "The purpose of this notebook is to perform an investigatory analysis of the Wellington Dataset ([link](http://lila.science/datasets/wellingtoncameratraps)) CSV metadata file (present [here](https://lilablobssc.blob.core.windows.net/wellingtoncameratraps/wellington_camera_traps.csv.zip)) to identify, understand and possibly modify the information present in the file."
   ]
  },
  {
   "cell_type": "code",
   "execution_count": 1,
   "metadata": {},
   "outputs": [],
   "source": [
    "import os\n",
    "\n",
    "import numpy as np\n",
    "import pandas as pd"
   ]
  },
  {
   "cell_type": "code",
   "execution_count": 2,
   "metadata": {},
   "outputs": [],
   "source": [
    "# Read the file\n",
    "file_path = os.path.join(os.getcwd(), '..', 'data', 'wellington_camera_traps.csv')\n",
    "\n",
    "raw_data = pd.read_csv(file_path)"
   ]
  },
  {
   "cell_type": "code",
   "execution_count": 3,
   "metadata": {},
   "outputs": [
    {
     "data": {
      "text/html": [
       "<div>\n",
       "<style scoped>\n",
       "    .dataframe tbody tr th:only-of-type {\n",
       "        vertical-align: middle;\n",
       "    }\n",
       "\n",
       "    .dataframe tbody tr th {\n",
       "        vertical-align: top;\n",
       "    }\n",
       "\n",
       "    .dataframe thead th {\n",
       "        text-align: right;\n",
       "    }\n",
       "</style>\n",
       "<table border=\"1\" class=\"dataframe\">\n",
       "  <thead>\n",
       "    <tr style=\"text-align: right;\">\n",
       "      <th></th>\n",
       "      <th>sequence</th>\n",
       "      <th>image_sequence</th>\n",
       "      <th>file</th>\n",
       "      <th>label</th>\n",
       "      <th>site</th>\n",
       "      <th>date</th>\n",
       "      <th>camera</th>\n",
       "    </tr>\n",
       "  </thead>\n",
       "  <tbody>\n",
       "    <tr>\n",
       "      <th>0</th>\n",
       "      <td>2</td>\n",
       "      <td>image1</td>\n",
       "      <td>290716114012001a1116.jpg</td>\n",
       "      <td>BIRD</td>\n",
       "      <td>001a</td>\n",
       "      <td>7/29/2016 11:40</td>\n",
       "      <td>111</td>\n",
       "    </tr>\n",
       "    <tr>\n",
       "      <th>1</th>\n",
       "      <td>12</td>\n",
       "      <td>image1</td>\n",
       "      <td>100816090812001a1111.jpg</td>\n",
       "      <td>BIRD</td>\n",
       "      <td>001a</td>\n",
       "      <td>8/10/2016 9:08</td>\n",
       "      <td>111</td>\n",
       "    </tr>\n",
       "    <tr>\n",
       "      <th>2</th>\n",
       "      <td>17</td>\n",
       "      <td>image1</td>\n",
       "      <td>180516121622001a1602.jpg</td>\n",
       "      <td>BIRD</td>\n",
       "      <td>001a</td>\n",
       "      <td>5/18/2016 12:16</td>\n",
       "      <td>160</td>\n",
       "    </tr>\n",
       "    <tr>\n",
       "      <th>3</th>\n",
       "      <td>18</td>\n",
       "      <td>image1</td>\n",
       "      <td>260416120224001a1601.jpg</td>\n",
       "      <td>BIRD</td>\n",
       "      <td>001a</td>\n",
       "      <td>4/26/2016 12:02</td>\n",
       "      <td>160</td>\n",
       "    </tr>\n",
       "    <tr>\n",
       "      <th>4</th>\n",
       "      <td>20</td>\n",
       "      <td>image1</td>\n",
       "      <td>160516023810001a1606.jpg</td>\n",
       "      <td>CAT</td>\n",
       "      <td>001a</td>\n",
       "      <td>5/16/2016 2:38</td>\n",
       "      <td>160</td>\n",
       "    </tr>\n",
       "  </tbody>\n",
       "</table>\n",
       "</div>"
      ],
      "text/plain": [
       "   sequence image_sequence                      file label  site  \\\n",
       "0         2         image1  290716114012001a1116.jpg  BIRD  001a   \n",
       "1        12         image1  100816090812001a1111.jpg  BIRD  001a   \n",
       "2        17         image1  180516121622001a1602.jpg  BIRD  001a   \n",
       "3        18         image1  260416120224001a1601.jpg  BIRD  001a   \n",
       "4        20         image1  160516023810001a1606.jpg   CAT  001a   \n",
       "\n",
       "              date camera  \n",
       "0  7/29/2016 11:40    111  \n",
       "1   8/10/2016 9:08    111  \n",
       "2  5/18/2016 12:16    160  \n",
       "3  4/26/2016 12:02    160  \n",
       "4   5/16/2016 2:38    160  "
      ]
     },
     "execution_count": 3,
     "metadata": {},
     "output_type": "execute_result"
    }
   ],
   "source": [
    "# Print some demo top rows\n",
    "raw_data.head()"
   ]
  },
  {
   "cell_type": "markdown",
   "metadata": {},
   "source": [
    "The dataset webpage says that there are 270,450 images from 187 camera locations in the dataset. Each of the 90,150 sequences contain 3 images taken as part of the burst imagery. Each sequence is classified into 15 animal categories, empty, and unclassifiable. Approximately 17% of images are labeled as empty. Let us verify this dataset to make sure we are not missing any part of it."
   ]
  },
  {
   "cell_type": "code",
   "execution_count": 4,
   "metadata": {},
   "outputs": [
    {
     "name": "stdout",
     "output_type": "stream",
     "text": [
      "There are 270450 images in the dataset.\n"
     ]
    }
   ],
   "source": [
    "print(\"There are\", len(raw_data), \"images in the dataset.\")"
   ]
  },
  {
   "cell_type": "code",
   "execution_count": 9,
   "metadata": {},
   "outputs": [
    {
     "name": "stdout",
     "output_type": "stream",
     "text": [
      "There are 129 unique camera locations in the dataset.\n"
     ]
    }
   ],
   "source": [
    "print(\"There are\", len(raw_data.camera.unique()), \"unique camera locations in the dataset.\")"
   ]
  },
  {
   "cell_type": "markdown",
   "metadata": {},
   "source": [
    "Hmmm... $\\large{🐟}$. I'm not sure how useful it is to have the right camera locations for our problem statement right now, but it is good that we have found and documented the issue so that we can trace back if we face a problem in the future."
   ]
  },
  {
   "cell_type": "code",
   "execution_count": 15,
   "metadata": {},
   "outputs": [
    {
     "name": "stdout",
     "output_type": "stream",
     "text": [
      "There are 17 unique labels in the dataset.\n"
     ]
    }
   ],
   "source": [
    "print(\"There are\", len(raw_data.label.unique()), \"unique labels in the dataset.\")"
   ]
  },
  {
   "cell_type": "code",
   "execution_count": 10,
   "metadata": {},
   "outputs": [
    {
     "name": "stdout",
     "output_type": "stream",
     "text": [
      "There are 90478 unique sequences in the dataset.\n"
     ]
    }
   ],
   "source": [
    "print(\"There are\", len(raw_data.sequence.unique()), \"unique sequences in the dataset.\")"
   ]
  },
  {
   "cell_type": "markdown",
   "metadata": {},
   "source": [
    "Hmmmm.. extra $\\huge{🐟}$. This means that not every sequence has 3 images. Let's see what are we facing here. "
   ]
  },
  {
   "cell_type": "code",
   "execution_count": 14,
   "metadata": {},
   "outputs": [
    {
     "name": "stdout",
     "output_type": "stream",
     "text": [
      "There various unique counts of images in sequences are: [3 2 1]\n"
     ]
    }
   ],
   "source": [
    "unique_image_counts = raw_data.groupby('sequence')[\"image_sequence\"].transform(\"count\").unique()\n",
    "print(\"There various unique counts of images in sequences are:\", unique_image_counts)"
   ]
  },
  {
   "cell_type": "markdown",
   "metadata": {},
   "source": [
    "Interesting $\\large{🤔}$. Let's dive deeper to see what kind of sequences these are that don't have 3 images."
   ]
  },
  {
   "cell_type": "code",
   "execution_count": null,
   "metadata": {},
   "outputs": [],
   "source": []
  }
 ],
 "metadata": {
  "kernelspec": {
   "display_name": "Python 3",
   "language": "python",
   "name": "python3"
  },
  "language_info": {
   "codemirror_mode": {
    "name": "ipython",
    "version": 3
   },
   "file_extension": ".py",
   "mimetype": "text/x-python",
   "name": "python",
   "nbconvert_exporter": "python",
   "pygments_lexer": "ipython3",
   "version": "3.7.0"
  }
 },
 "nbformat": 4,
 "nbformat_minor": 2
}
